{
 "cells": [
  {
   "cell_type": "code",
   "execution_count": 2,
   "id": "78cec3cd",
   "metadata": {},
   "outputs": [],
   "source": [
    "import numpy as np\n",
    "import pandas as pd\n",
    "import matplotlib.pyplot as plt\n",
    "from scipy.linalg import eig\n",
    "from numpy.linalg import eig"
   ]
  },
  {
   "cell_type": "code",
   "execution_count": 15,
   "id": "8cc65e0f",
   "metadata": {},
   "outputs": [],
   "source": [
    "#Taking 2d data\n",
    "df = np.array([[3,4],[2,8],[6,9],[10,12]])"
   ]
  },
  {
   "cell_type": "code",
   "execution_count": 16,
   "id": "708e01b4",
   "metadata": {},
   "outputs": [
    {
     "data": {
      "text/plain": [
       "array([[ 3,  4],\n",
       "       [ 2,  8],\n",
       "       [ 6,  9],\n",
       "       [10, 12]])"
      ]
     },
     "execution_count": 16,
     "metadata": {},
     "output_type": "execute_result"
    }
   ],
   "source": [
    "df"
   ]
  },
  {
   "cell_type": "code",
   "execution_count": 18,
   "id": "2605c15e",
   "metadata": {},
   "outputs": [],
   "source": [
    "df1 =pd.DataFrame(df1,columns=['ML','DL'])"
   ]
  },
  {
   "cell_type": "code",
   "execution_count": 19,
   "id": "c0008bbc",
   "metadata": {},
   "outputs": [
    {
     "data": {
      "image/png": "[encoded data removed]",
      "text/plain": [
       "<Figure size 640x480 with 1 Axes>"
      ]
     },
     "metadata": {},
     "output_type": "display_data"
    }
   ],
   "source": [
    "plt.scatter(df1[\"ML\"],df1[\"DL\"])\n",
    "plt.xlabel('ML')\n",
    "plt.ylabel('DL')\n",
    "plt.show()"
   ]
  },
  {
   "cell_type": "markdown",
   "id": "739fdc23",
   "metadata": {},
   "source": [
    "#PCA Steps\n",
    "1. Standardizatin of data(ZERO centric dat\n",
    "2. Covariance matrix\n",
    "3. eig value and eig vector\n",
    "4. find principle component\n",
    "\n"
   ]
  },
  {
   "cell_type": "code",
   "execution_count": 20,
   "id": "319e5c0c",
   "metadata": {},
   "outputs": [
    {
     "data": {
      "text/plain": [
       "array([[ 3,  2,  6, 10],\n",
       "       [ 4,  8,  9, 12]])"
      ]
     },
     "execution_count": 20,
     "metadata": {},
     "output_type": "execute_result"
    }
   ],
   "source": [
    "df.T"
   ]
  },
  {
   "cell_type": "code",
   "execution_count": 23,
   "id": "d4866712",
   "metadata": {},
   "outputs": [
    {
     "data": {
      "text/plain": [
       "array([5.25, 8.25])"
      ]
     },
     "execution_count": 23,
     "metadata": {},
     "output_type": "execute_result"
    }
   ],
   "source": [
    "np.mean(df.T,axis=1)"
   ]
  },
  {
   "cell_type": "code",
   "execution_count": 26,
   "id": "61e995d2",
   "metadata": {},
   "outputs": [],
   "source": [
    "meanbycol=np.mean(df,axis=0)"
   ]
  },
  {
   "cell_type": "code",
   "execution_count": 27,
   "id": "cfac2eb1",
   "metadata": {},
   "outputs": [
    {
     "data": {
      "text/plain": [
       "array([[ 3,  4],\n",
       "       [ 2,  8],\n",
       "       [ 6,  9],\n",
       "       [10, 12]])"
      ]
     },
     "execution_count": 27,
     "metadata": {},
     "output_type": "execute_result"
    }
   ],
   "source": [
    "df"
   ]
  },
  {
   "cell_type": "code",
   "execution_count": 33,
   "id": "5d1eb444",
   "metadata": {},
   "outputs": [
    {
     "data": {
      "text/plain": [
       "array([[-2.25, -4.25],\n",
       "       [-3.25, -0.25],\n",
       "       [ 0.75,  0.75],\n",
       "       [ 4.75,  3.75]])"
      ]
     },
     "execution_count": 33,
     "metadata": {},
     "output_type": "execute_result"
    }
   ],
   "source": [
    "scaled =df-meanbycol\n",
    "scaled"
   ]
  },
  {
   "cell_type": "code",
   "execution_count": 29,
   "id": "5c5f00c2",
   "metadata": {},
   "outputs": [],
   "source": [
    "#Step 2- Covariance matrix - we want relation between the variables\n"
   ]
  },
  {
   "cell_type": "code",
   "execution_count": 36,
   "id": "1038af3c",
   "metadata": {},
   "outputs": [],
   "source": [
    "cov_mat = np.cov(scaled.T)"
   ]
  },
  {
   "cell_type": "code",
   "execution_count": 37,
   "id": "348b20f9",
   "metadata": {},
   "outputs": [],
   "source": [
    "#step3 - eign value and eign vector"
   ]
  },
  {
   "cell_type": "code",
   "execution_count": 39,
   "id": "d5abe97b",
   "metadata": {},
   "outputs": [],
   "source": [
    "eig_val,eig_vec=np.linalg.eig(cov_mat)"
   ]
  },
  {
   "cell_type": "code",
   "execution_count": 40,
   "id": "9abcd9eb",
   "metadata": {},
   "outputs": [
    {
     "data": {
      "text/plain": [
       "array([21.55203266,  2.28130068])"
      ]
     },
     "execution_count": 40,
     "metadata": {},
     "output_type": "execute_result"
    }
   ],
   "source": [
    "eig_val"
   ]
  },
  {
   "cell_type": "code",
   "execution_count": 41,
   "id": "12ca62a6",
   "metadata": {},
   "outputs": [
    {
     "data": {
      "text/plain": [
       "array([[ 0.74289445, -0.66940857],\n",
       "       [ 0.66940857,  0.74289445]])"
      ]
     },
     "execution_count": 41,
     "metadata": {},
     "output_type": "execute_result"
    }
   ],
   "source": [
    "eig_vec"
   ]
  },
  {
   "cell_type": "code",
   "execution_count": 44,
   "id": "b39264fc",
   "metadata": {},
   "outputs": [
    {
     "data": {
      "text/plain": [
       "array([[-2.25, -3.25,  0.75,  4.75],\n",
       "       [-4.25, -0.25,  0.75,  3.75]])"
      ]
     },
     "execution_count": 44,
     "metadata": {},
     "output_type": "execute_result"
    }
   ],
   "source": [
    "scaled.T"
   ]
  },
  {
   "cell_type": "code",
   "execution_count": 45,
   "id": "50358903",
   "metadata": {},
   "outputs": [
    {
     "data": {
      "text/plain": [
       "array([[-4.51649894, -1.65113213],\n",
       "       [-2.58175911,  1.98985424],\n",
       "       [ 1.05922727,  0.05511441],\n",
       "       [ 6.03903078, -0.39383652]])"
      ]
     },
     "execution_count": 45,
     "metadata": {},
     "output_type": "execute_result"
    }
   ],
   "source": [
    "eig_vec.T.dot(scaled.T).T"
   ]
  },
  {
   "cell_type": "code",
   "execution_count": 46,
   "id": "90acf077",
   "metadata": {},
   "outputs": [],
   "source": [
    "from sklearn.decomposition import PCA\n",
    "pca = PCA()"
   ]
  },
  {
   "cell_type": "code",
   "execution_count": 47,
   "id": "e9fc4fac",
   "metadata": {},
   "outputs": [
    {
     "data": {
      "text/plain": [
       "array([[-4.51649894, -1.65113213],\n",
       "       [-2.58175911,  1.98985424],\n",
       "       [ 1.05922727,  0.05511441],\n",
       "       [ 6.03903078, -0.39383652]])"
      ]
     },
     "execution_count": 47,
     "metadata": {},
     "output_type": "execute_result"
    }
   ],
   "source": [
    "pca.fit_transform(scaled)"
   ]
  },
  {
   "cell_type": "code",
   "execution_count": 49,
   "id": "b544413d",
   "metadata": {},
   "outputs": [
    {
     "data": {
      "text/html": [
       "<div>\n",
       "<style scoped>\n",
       "    .dataframe tbody tr th:only-of-type {\n",
       "        vertical-align: middle;\n",
       "    }\n",
       "\n",
       "    .dataframe tbody tr th {\n",
       "        vertical-align: top;\n",
       "    }\n",
       "\n",
       "    .dataframe thead th {\n",
       "        text-align: right;\n",
       "    }\n",
       "</style>\n",
       "<table border=\"1\" class=\"dataframe\">\n",
       "  <thead>\n",
       "    <tr style=\"text-align: right;\">\n",
       "      <th></th>\n",
       "      <th>PC1</th>\n",
       "      <th>PC2</th>\n",
       "    </tr>\n",
       "  </thead>\n",
       "  <tbody>\n",
       "    <tr>\n",
       "      <th>0</th>\n",
       "      <td>-4.516499</td>\n",
       "      <td>-1.651132</td>\n",
       "    </tr>\n",
       "    <tr>\n",
       "      <th>1</th>\n",
       "      <td>-2.581759</td>\n",
       "      <td>1.989854</td>\n",
       "    </tr>\n",
       "    <tr>\n",
       "      <th>2</th>\n",
       "      <td>1.059227</td>\n",
       "      <td>0.055114</td>\n",
       "    </tr>\n",
       "    <tr>\n",
       "      <th>3</th>\n",
       "      <td>6.039031</td>\n",
       "      <td>-0.393837</td>\n",
       "    </tr>\n",
       "  </tbody>\n",
       "</table>\n",
       "</div>"
      ],
      "text/plain": [
       "        PC1       PC2\n",
       "0 -4.516499 -1.651132\n",
       "1 -2.581759  1.989854\n",
       "2  1.059227  0.055114\n",
       "3  6.039031 -0.393837"
      ]
     },
     "execution_count": 49,
     "metadata": {},
     "output_type": "execute_result"
    }
   ],
   "source": [
    "pd.DataFrame(data = pca.fit_transform(scaled),columns=['PC1','PC2'])"
   ]
  },
  {
   "cell_type": "code",
   "execution_count": 51,
   "id": "fb48f95f",
   "metadata": {},
   "outputs": [
    {
     "data": {
      "text/plain": [
       "array([[-2.25, -4.25],\n",
       "       [-3.25, -0.25],\n",
       "       [ 0.75,  0.75],\n",
       "       [ 4.75,  3.75]])"
      ]
     },
     "execution_count": 51,
     "metadata": {},
     "output_type": "execute_result"
    }
   ],
   "source": [
    "pca.inverse_transform(pca.fit_transform(scaled))"
   ]
  },
  {
   "cell_type": "code",
   "execution_count": 52,
   "id": "241209b9",
   "metadata": {},
   "outputs": [
    {
     "data": {
      "text/plain": [
       "array([0.90428109, 0.09571891])"
      ]
     },
     "execution_count": 52,
     "metadata": {},
     "output_type": "execute_result"
    }
   ],
   "source": [
    "pca.explained_variance_ratio_"
   ]
  },
  {
   "cell_type": "code",
   "execution_count": null,
   "id": "0cfd3ee7",
   "metadata": {},
   "outputs": [],
   "source": []
  }
 ],
 "metadata": {
  "kernelspec": {
   "display_name": "Python 3 (ipykernel)",
   "language": "python",
   "name": "python3"
  },
  "language_info": {
   "codemirror_mode": {
    "name": "ipython",
    "version": 3
   },
   "file_extension": ".py",
   "mimetype": "text/x-python",
   "name": "python",
   "nbconvert_exporter": "python",
   "pygments_lexer": "ipython3",
   "version": "3.11.0"
  }
 },
 "nbformat": 4,
 "nbformat_minor": 5
}
